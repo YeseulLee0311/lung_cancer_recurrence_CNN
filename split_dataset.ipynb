{
 "cells": [
  {
   "cell_type": "code",
   "execution_count": 12,
   "metadata": {},
   "outputs": [],
   "source": [
    "import os\n",
    "import shutil\n",
    "import pandas as pd\n",
    "import random"
   ]
  },
  {
   "cell_type": "code",
   "execution_count": 2,
   "metadata": {},
   "outputs": [],
   "source": [
    "org_path='./TCIA_test'\n",
    "new_path='./TCIA'"
   ]
  },
  {
   "cell_type": "code",
   "execution_count": 3,
   "metadata": {},
   "outputs": [],
   "source": [
    "label=pd.read_csv('./label.csv',sep=',')"
   ]
  },
  {
   "cell_type": "code",
   "execution_count": 4,
   "metadata": {},
   "outputs": [],
   "source": [
    "label=label.set_index('PatientID')"
   ]
  },
  {
   "cell_type": "code",
   "execution_count": 5,
   "metadata": {
    "scrolled": false
   },
   "outputs": [
    {
     "data": {
      "text/html": [
       "<div>\n",
       "<style scoped>\n",
       "    .dataframe tbody tr th:only-of-type {\n",
       "        vertical-align: middle;\n",
       "    }\n",
       "\n",
       "    .dataframe tbody tr th {\n",
       "        vertical-align: top;\n",
       "    }\n",
       "\n",
       "    .dataframe thead th {\n",
       "        text-align: right;\n",
       "    }\n",
       "</style>\n",
       "<table border=\"1\" class=\"dataframe\">\n",
       "  <thead>\n",
       "    <tr style=\"text-align: right;\">\n",
       "      <th></th>\n",
       "      <th>Survival.time</th>\n",
       "      <th>Survival.time(month)</th>\n",
       "      <th>recurrence</th>\n",
       "    </tr>\n",
       "    <tr>\n",
       "      <th>PatientID</th>\n",
       "      <th></th>\n",
       "      <th></th>\n",
       "      <th></th>\n",
       "    </tr>\n",
       "  </thead>\n",
       "  <tbody>\n",
       "    <tr>\n",
       "      <th>LUNG1-004</th>\n",
       "      <td>141</td>\n",
       "      <td>5.0</td>\n",
       "      <td>1</td>\n",
       "    </tr>\n",
       "    <tr>\n",
       "      <th>LUNG1-005</th>\n",
       "      <td>353</td>\n",
       "      <td>12.0</td>\n",
       "      <td>1</td>\n",
       "    </tr>\n",
       "    <tr>\n",
       "      <th>LUNG1-006</th>\n",
       "      <td>173</td>\n",
       "      <td>6.0</td>\n",
       "      <td>1</td>\n",
       "    </tr>\n",
       "    <tr>\n",
       "      <th>LUNG1-007</th>\n",
       "      <td>137</td>\n",
       "      <td>5.0</td>\n",
       "      <td>1</td>\n",
       "    </tr>\n",
       "    <tr>\n",
       "      <th>LUNG1-008</th>\n",
       "      <td>77</td>\n",
       "      <td>3.0</td>\n",
       "      <td>1</td>\n",
       "    </tr>\n",
       "    <tr>\n",
       "      <th>...</th>\n",
       "      <td>...</td>\n",
       "      <td>...</td>\n",
       "      <td>...</td>\n",
       "    </tr>\n",
       "    <tr>\n",
       "      <th>LUNG1-285</th>\n",
       "      <td>303</td>\n",
       "      <td>10.0</td>\n",
       "      <td>1</td>\n",
       "    </tr>\n",
       "    <tr>\n",
       "      <th>LUNG1-288</th>\n",
       "      <td>154</td>\n",
       "      <td>5.0</td>\n",
       "      <td>1</td>\n",
       "    </tr>\n",
       "    <tr>\n",
       "      <th>LUNG1-290</th>\n",
       "      <td>321</td>\n",
       "      <td>11.0</td>\n",
       "      <td>1</td>\n",
       "    </tr>\n",
       "    <tr>\n",
       "      <th>LUNG1-292</th>\n",
       "      <td>232</td>\n",
       "      <td>8.0</td>\n",
       "      <td>1</td>\n",
       "    </tr>\n",
       "    <tr>\n",
       "      <th>LUNG1-296</th>\n",
       "      <td>177</td>\n",
       "      <td>6.0</td>\n",
       "      <td>1</td>\n",
       "    </tr>\n",
       "  </tbody>\n",
       "</table>\n",
       "<p>100 rows × 3 columns</p>\n",
       "</div>"
      ],
      "text/plain": [
       "           Survival.time  Survival.time(month)  recurrence\n",
       "PatientID                                                 \n",
       "LUNG1-004            141                   5.0           1\n",
       "LUNG1-005            353                  12.0           1\n",
       "LUNG1-006            173                   6.0           1\n",
       "LUNG1-007            137                   5.0           1\n",
       "LUNG1-008             77                   3.0           1\n",
       "...                  ...                   ...         ...\n",
       "LUNG1-285            303                  10.0           1\n",
       "LUNG1-288            154                   5.0           1\n",
       "LUNG1-290            321                  11.0           1\n",
       "LUNG1-292            232                   8.0           1\n",
       "LUNG1-296            177                   6.0           1\n",
       "\n",
       "[100 rows x 3 columns]"
      ]
     },
     "execution_count": 5,
     "metadata": {},
     "output_type": "execute_result"
    }
   ],
   "source": [
    "label"
   ]
  },
  {
   "cell_type": "code",
   "execution_count": 6,
   "metadata": {},
   "outputs": [],
   "source": [
    "recur=[]\n",
    "nonrecur=[]\n",
    "for pat_dir in os.listdir(org_path):\n",
    "    for x in os.listdir(os.path.join(org_path,pat_dir,'patch')):\n",
    "        if label['recurrence'][pat_dir]==1:\n",
    "            recur.append(os.path.join(pat_dir,x))\n",
    "        else:\n",
    "            nonrecur.append(os.path.join(pat_dir,x))"
   ]
  },
  {
   "cell_type": "code",
   "execution_count": 7,
   "metadata": {},
   "outputs": [],
   "source": [
    "random.shuffle(recur)\n",
    "random.shuffle(nonrecur)"
   ]
  },
  {
   "cell_type": "code",
   "execution_count": 8,
   "metadata": {},
   "outputs": [
    {
     "name": "stdout",
     "output_type": "stream",
     "text": [
      "43.52\n",
      "10.88\n",
      "13.600000000000001\n"
     ]
    }
   ],
   "source": [
    "print(len(recur)*0.64) #train\n",
    "print(len(recur)*0.16) #val\n",
    "print(len(recur)*0.20) #test"
   ]
  },
  {
   "cell_type": "code",
   "execution_count": 9,
   "metadata": {},
   "outputs": [
    {
     "name": "stdout",
     "output_type": "stream",
     "text": [
      "20.48\n",
      "5.12\n",
      "6.4\n"
     ]
    }
   ],
   "source": [
    "print(len(nonrecur)*0.64) #train\n",
    "print(len(nonrecur)*0.16) #val\n",
    "print(len(nonrecur)*0.20) #test"
   ]
  },
  {
   "cell_type": "code",
   "execution_count": 10,
   "metadata": {},
   "outputs": [],
   "source": [
    "for i in range(len(recur)):\n",
    "    pat_dir,patch=os.path.split(recur[i])\n",
    "    filename=pat_dir+'-'+patch\n",
    "    if i<44:\n",
    "        shutil.copy(os.path.join(org_path,pat_dir,'patch',patch),os.path.join(new_path,'train','recurrence',filename))\n",
    "    elif i<54:\n",
    "        shutil.copy(os.path.join(org_path,pat_dir,'patch',patch),os.path.join(new_path,'val','recurrence',filename))\n",
    "    else:\n",
    "        shutil.copy(os.path.join(org_path,pat_dir,'patch',patch),os.path.join(new_path,'test','recurrence',filename))"
   ]
  },
  {
   "cell_type": "code",
   "execution_count": 11,
   "metadata": {},
   "outputs": [],
   "source": [
    "for i in range(len(nonrecur)):\n",
    "    pat_dir,patch=os.path.split(nonrecur[i])\n",
    "    filename=pat_dir+'-'+patch\n",
    "    if i<21:\n",
    "        shutil.copy(os.path.join(org_path,pat_dir,'patch',patch),os.path.join(new_path,'train','non-recurrence',filename))\n",
    "    elif i<26:\n",
    "        shutil.copy(os.path.join(org_path,pat_dir,'patch',patch),os.path.join(new_path,'val','non-recurrence',filename))\n",
    "    else:\n",
    "        shutil.copy(os.path.join(org_path,pat_dir,'patch',patch),os.path.join(new_path,'test','non-recurrence',filename))"
   ]
  }
 ],
 "metadata": {
  "kernelspec": {
   "display_name": "Python 3",
   "language": "python",
   "name": "python3"
  },
  "language_info": {
   "codemirror_mode": {
    "name": "ipython",
    "version": 3
   },
   "file_extension": ".py",
   "mimetype": "text/x-python",
   "name": "python",
   "nbconvert_exporter": "python",
   "pygments_lexer": "ipython3",
   "version": "3.7.3"
  }
 },
 "nbformat": 4,
 "nbformat_minor": 2
}
