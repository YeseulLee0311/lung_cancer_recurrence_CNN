{
 "cells": [
  {
   "cell_type": "code",
   "execution_count": null,
   "metadata": {},
   "outputs": [],
   "source": [
    "from __future__ import print_function, division\n",
    "import torch\n",
    "import torch.nn as nn\n",
    "import torch.optim as optim\n",
    "from torch.optim import lr_scheduler\n",
    "import numpy as np\n",
    "import torchvision\n",
    "from torchvision import datasets, models, transforms\n",
    "import matplotlib.pyplot as plt\n",
    "import time\n",
    "import os\n",
    "import copy"
   ]
  },
  {
   "cell_type": "code",
   "execution_count": null,
   "metadata": {},
   "outputs": [],
   "source": [
    "class Ensemble(nn.Module):\n",
    "    def __init__(self, modelA, modelB):\n",
    "        super(Ensemble, self).__init__()\n",
    "        self.modelA = modelA\n",
    "        self.modelB = modelB\n",
    "        #self.modelA.classifier[6]=nn.Identity()\n",
    "        #self.modelB.classifier[6]=nn.Identity()        \n",
    "        #self.classifier=nn.Linear(4096+4096,2)\n",
    "        \n",
    "    def forward(self, a,b):\n",
    "        x1 = self.modelA(a.clone())  \n",
    "        x1 = x1.view(x1.size(0), -1)\n",
    "        x2 = self.modelB(b.clone())\n",
    "        x2 = x2.view(x2.size(0), -1)\n",
    "        \n",
    "        #x=torch.cat((x1,x2),dim=1)\n",
    "        #x=self.classifier(torch.nn.functional.relu(x))\n",
    "        #x1=torch.nn.functional.softmax(x1)\n",
    "        #x2=torch.nn.functional.softmax(x2)\n",
    "        x=((x1)+(x2))/2\n",
    "\n",
    "        return x"
   ]
  },
  {
   "cell_type": "code",
   "execution_count": null,
   "metadata": {
    "scrolled": true
   },
   "outputs": [],
   "source": [
    "test_transforms = transforms.Compose([\n",
    "        transforms.Resize(256),\n",
    "        transforms.CenterCrop(224),\n",
    "        transforms.ToTensor(),\n",
    "        transforms.Normalize([0.485, 0.456, 0.406], [0.229, 0.224, 0.225])\n",
    "])\n",
    "\n",
    "data_dir_intra = './TCIA_splitted_intra2'\n",
    "test_datasets_intra = datasets.ImageFolder(os.path.join(data_dir_intra, 'test'),\n",
    "                                          test_transforms)\n",
    "testloaders_intra = torch.utils.data.DataLoader(test_datasets_intra, batch_size=4,\n",
    "                                             shuffle=False, num_workers=0)\n",
    "\n",
    "data_dir_peri = './TCIA_splitted_peri2'\n",
    "test_datasets_peri = datasets.ImageFolder(os.path.join(data_dir_peri, 'test'),\n",
    "                                          test_transforms)\n",
    "testloaders_peri = torch.utils.data.DataLoader(test_datasets_peri, batch_size=4,\n",
    "                                             shuffle=False, num_workers=0)\n",
    "\n",
    "data_dir_texture = './TCIA_splitted_texture'\n",
    "test_datasets_texture = datasets.ImageFolder(os.path.join(data_dir_texture, 'test'),\n",
    "                                          test_transforms)\n",
    "testloaders_texture = torch.utils.data.DataLoader(test_datasets_texture, batch_size=4,\n",
    "                                             shuffle=False, num_workers=0)"
   ]
  },
  {
   "cell_type": "code",
   "execution_count": null,
   "metadata": {
    "scrolled": true
   },
   "outputs": [],
   "source": [
    "alexnet4_intra= torch.load('./models/alexnet_intra4.pt')\n",
    "alexnet4_intra.eval()\n",
    "alexnet4_peri= torch.load('./models/alexnet_peri4.pt')\n",
    "alexnet4_peri.eval()\n",
    "alexnet4_peri= torch.load('./models/alexnet_peri4.pt')\n",
    "alexnet4_peri.eval()"
   ]
  },
  {
   "cell_type": "code",
   "execution_count": null,
   "metadata": {},
   "outputs": [],
   "source": [
    "for param in alexnet4_intra.parameters():\n",
    "    param.requires_grad_(False)\n",
    "for param in alexnet4_peri.parameters():\n",
    "    param.requires_grad_(False)"
   ]
  },
  {
   "cell_type": "markdown",
   "metadata": {
    "scrolled": true
   },
   "source": [
    "correct = 0\n",
    "total = 0\n",
    "\n",
    "with torch.no_grad():\n",
    "    for data in testloaders_intra:\n",
    "        img,labels=data\n",
    "        print('***********')\n",
    "        print(labels)\n",
    "        output=alexnet4_intra(img)\n",
    "        _, predicted = torch.max(output.data, 1)\n",
    "        print(predicted)\n",
    "        total += labels.size(0)\n",
    "        correct += (predicted == labels).sum().item()\n",
    "    \n",
    "    print('Testset Accuracy(mean): %f %%' % (100 * correct / total))\n"
   ]
  },
  {
   "cell_type": "code",
   "execution_count": null,
   "metadata": {},
   "outputs": [],
   "source": [
    "ensemble=Ensemble(alexnet4_intra,alexnet4_peri)"
   ]
  },
  {
   "cell_type": "code",
   "execution_count": null,
   "metadata": {
    "scrolled": true
   },
   "outputs": [],
   "source": [
    "####Accuracy####\n",
    "correct = 0\n",
    "total = 0\n",
    "\n",
    "\n",
    "for intra,peri in zip(testloaders_intra,testloaders_peri):\n",
    "    img_intra,label_intra=intra\n",
    "    img_peri,label_peri=peri\n",
    "    print('***********')\n",
    "    #print('labels')\n",
    "    print(label_intra)\n",
    "    print(label_peri)\n",
    "    output=ensemble(img_intra,img_peri)\n",
    "    _, predicted = torch.max(output.data, 1)\n",
    "    #print(x1)\n",
    "    #print(x2)\n",
    "    #print(output)\n",
    "    print(predicted)\n",
    "    total += label_intra.size(0)\n",
    "    correct += (predicted == label_intra).sum().item()\n",
    "\n",
    "print('Testset Accuracy(mean): %f %%' % (100 * correct / total))"
   ]
  },
  {
   "cell_type": "code",
   "execution_count": null,
   "metadata": {},
   "outputs": [],
   "source": [
    "def getConfusionMatrix(model):\n",
    "    model.eval()\n",
    "    confusion_matrix=np.zeros((2,2),dtype=int)\n",
    "    num_images=len(test_datasets_intra)\n",
    "    \n",
    "    with torch.no_grad():\n",
    "        for intra, peri in zip(testloaders_intra,testloaders_peri):\n",
    "            #inputs = inputs.to(device)\n",
    "            #labels = labels.to(device)\n",
    "            img_intra,label_intra=intra\n",
    "            img_peri,label_peri=peri\n",
    "            outputs = ensemble(img_intra,img_peri)\n",
    "            _, preds = torch.max(outputs, 1)\n",
    "            \n",
    "            for j in range(len(preds)):\n",
    "                if preds[j]==1 and label_intra[j]==1:\n",
    "                    term='TP'\n",
    "                    confusion_matrix[0][0]+=1\n",
    "                elif preds[j]==1 and label_intra[j]==0:\n",
    "                    term='FP'\n",
    "                    confusion_matrix[1][0]+=1\n",
    "                elif preds[j]==0 and label_intra[j]==1:\n",
    "                    term='FN'\n",
    "                    confusion_matrix[0][1]+=1\n",
    "                elif preds[j]==0 and label_intra[j]==0:\n",
    "                    term='TN'\n",
    "                    confusion_matrix[1][1]+=1\n",
    "\n",
    "        print('Confusion Matrix: ')\n",
    "        print(confusion_matrix)\n",
    "        print()\n",
    "        print('Sensitivity: ', 100*confusion_matrix[0][0]/(confusion_matrix[0][0]+confusion_matrix[0][1]))\n",
    "        print('Specificity: ', 100*confusion_matrix[1][1]/(confusion_matrix[1][1]+confusion_matrix[1][0]))\n",
    "        print('PPV: ', 100*confusion_matrix[0][0]/(confusion_matrix[0][0]+confusion_matrix[1][0]))\n",
    "        print('NPV: ', 100*confusion_matrix[1][1]/(confusion_matrix[1][1]+confusion_matrix[0][1]))\n",
    "        \n",
    "        #return confusion_matrix"
   ]
  },
  {
   "cell_type": "code",
   "execution_count": null,
   "metadata": {},
   "outputs": [],
   "source": [
    "getConfusionMatrix(ensemble)"
   ]
  }
 ],
 "metadata": {
  "kernelspec": {
   "display_name": "Python 3",
   "language": "python",
   "name": "python3"
  },
  "language_info": {
   "codemirror_mode": {
    "name": "ipython",
    "version": 3
   },
   "file_extension": ".py",
   "mimetype": "text/x-python",
   "name": "python",
   "nbconvert_exporter": "python",
   "pygments_lexer": "ipython3",
   "version": "3.7.3"
  }
 },
 "nbformat": 4,
 "nbformat_minor": 2
}
