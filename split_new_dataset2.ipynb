{
 "cells": [
  {
   "cell_type": "code",
   "execution_count": 21,
   "metadata": {},
   "outputs": [],
   "source": [
    "import os\n",
    "import shutil\n",
    "import pandas as pd\n",
    "import random\n",
    "import glob\n",
    "import random"
   ]
  },
  {
   "cell_type": "code",
   "execution_count": 18,
   "metadata": {},
   "outputs": [],
   "source": [
    "org_path=os.path.join('./TCIA_new','peritumoral_patches_removed0.15')\n",
    "new_path='./TCIA_new_splitted_rmpatch'"
   ]
  },
  {
   "cell_type": "code",
   "execution_count": 10,
   "metadata": {},
   "outputs": [],
   "source": [
    "if not(os.path.isdir(new_path)):\n",
    "    os.makedirs(new_path)\n",
    "    os.makedirs(os.path.join(new_path,'train'))\n",
    "    os.makedirs(os.path.join(new_path,'train','recurrence'))\n",
    "    os.makedirs(os.path.join(new_path,'train','non-recurrence'))\n",
    "    os.makedirs(os.path.join(new_path,'val'))\n",
    "    os.makedirs(os.path.join(new_path,'val','recurrence'))\n",
    "    os.makedirs(os.path.join(new_path,'val','non-recurrence'))\n",
    "    os.makedirs(os.path.join(new_path,'test'))\n",
    "    os.makedirs(os.path.join(new_path,'test','recurrence'))\n",
    "    os.makedirs(os.path.join(new_path,'test','non-recurrence'))    "
   ]
  },
  {
   "cell_type": "code",
   "execution_count": 22,
   "metadata": {},
   "outputs": [
    {
     "name": "stdout",
     "output_type": "stream",
     "text": [
      "The number of patches :  95\n"
     ]
    }
   ],
   "source": [
    "print(\"The number of patches : \",len(os.listdir(org_path)))"
   ]
  },
  {
   "cell_type": "code",
   "execution_count": 32,
   "metadata": {},
   "outputs": [],
   "source": [
    "file_list=os.listdir(org_path)\n",
    "random.shuffle(file_list)"
   ]
  },
  {
   "cell_type": "code",
   "execution_count": 37,
   "metadata": {},
   "outputs": [
    {
     "name": "stdout",
     "output_type": "stream",
     "text": [
      "60.800000000000004\n",
      "15.200000000000001\n",
      "19.0\n"
     ]
    }
   ],
   "source": [
    "#train\n",
    "print(len(file_list)*0.64)\n",
    "#val\n",
    "print(len(file_list)*0.16)\n",
    "#test\n",
    "print(len(file_list)*0.2)"
   ]
  },
  {
   "cell_type": "code",
   "execution_count": 49,
   "metadata": {},
   "outputs": [],
   "source": [
    "train_size=61\n",
    "val_size=15\n",
    "test_size=19"
   ]
  },
  {
   "cell_type": "code",
   "execution_count": 38,
   "metadata": {},
   "outputs": [],
   "source": [
    "label=pd.read_csv('./label.csv',sep=',')"
   ]
  },
  {
   "cell_type": "code",
   "execution_count": 39,
   "metadata": {},
   "outputs": [],
   "source": [
    "label=label.set_index('PatientID')"
   ]
  },
  {
   "cell_type": "code",
   "execution_count": 40,
   "metadata": {},
   "outputs": [
    {
     "data": {
      "text/html": [
       "<div>\n",
       "<style scoped>\n",
       "    .dataframe tbody tr th:only-of-type {\n",
       "        vertical-align: middle;\n",
       "    }\n",
       "\n",
       "    .dataframe tbody tr th {\n",
       "        vertical-align: top;\n",
       "    }\n",
       "\n",
       "    .dataframe thead th {\n",
       "        text-align: right;\n",
       "    }\n",
       "</style>\n",
       "<table border=\"1\" class=\"dataframe\">\n",
       "  <thead>\n",
       "    <tr style=\"text-align: right;\">\n",
       "      <th></th>\n",
       "      <th>Survival.time</th>\n",
       "      <th>Survival.time(month)</th>\n",
       "      <th>recurrence</th>\n",
       "    </tr>\n",
       "    <tr>\n",
       "      <th>PatientID</th>\n",
       "      <th></th>\n",
       "      <th></th>\n",
       "      <th></th>\n",
       "    </tr>\n",
       "  </thead>\n",
       "  <tbody>\n",
       "    <tr>\n",
       "      <th>LUNG1-004</th>\n",
       "      <td>141</td>\n",
       "      <td>5.0</td>\n",
       "      <td>1</td>\n",
       "    </tr>\n",
       "    <tr>\n",
       "      <th>LUNG1-005</th>\n",
       "      <td>353</td>\n",
       "      <td>12.0</td>\n",
       "      <td>1</td>\n",
       "    </tr>\n",
       "    <tr>\n",
       "      <th>LUNG1-006</th>\n",
       "      <td>173</td>\n",
       "      <td>6.0</td>\n",
       "      <td>1</td>\n",
       "    </tr>\n",
       "    <tr>\n",
       "      <th>LUNG1-007</th>\n",
       "      <td>137</td>\n",
       "      <td>5.0</td>\n",
       "      <td>1</td>\n",
       "    </tr>\n",
       "    <tr>\n",
       "      <th>LUNG1-008</th>\n",
       "      <td>77</td>\n",
       "      <td>3.0</td>\n",
       "      <td>1</td>\n",
       "    </tr>\n",
       "    <tr>\n",
       "      <th>...</th>\n",
       "      <td>...</td>\n",
       "      <td>...</td>\n",
       "      <td>...</td>\n",
       "    </tr>\n",
       "    <tr>\n",
       "      <th>LUNG1-285</th>\n",
       "      <td>303</td>\n",
       "      <td>10.0</td>\n",
       "      <td>1</td>\n",
       "    </tr>\n",
       "    <tr>\n",
       "      <th>LUNG1-288</th>\n",
       "      <td>154</td>\n",
       "      <td>5.0</td>\n",
       "      <td>1</td>\n",
       "    </tr>\n",
       "    <tr>\n",
       "      <th>LUNG1-290</th>\n",
       "      <td>321</td>\n",
       "      <td>11.0</td>\n",
       "      <td>1</td>\n",
       "    </tr>\n",
       "    <tr>\n",
       "      <th>LUNG1-292</th>\n",
       "      <td>232</td>\n",
       "      <td>8.0</td>\n",
       "      <td>1</td>\n",
       "    </tr>\n",
       "    <tr>\n",
       "      <th>LUNG1-296</th>\n",
       "      <td>177</td>\n",
       "      <td>6.0</td>\n",
       "      <td>1</td>\n",
       "    </tr>\n",
       "  </tbody>\n",
       "</table>\n",
       "<p>100 rows × 3 columns</p>\n",
       "</div>"
      ],
      "text/plain": [
       "           Survival.time  Survival.time(month)  recurrence\n",
       "PatientID                                                 \n",
       "LUNG1-004            141                   5.0           1\n",
       "LUNG1-005            353                  12.0           1\n",
       "LUNG1-006            173                   6.0           1\n",
       "LUNG1-007            137                   5.0           1\n",
       "LUNG1-008             77                   3.0           1\n",
       "...                  ...                   ...         ...\n",
       "LUNG1-285            303                  10.0           1\n",
       "LUNG1-288            154                   5.0           1\n",
       "LUNG1-290            321                  11.0           1\n",
       "LUNG1-292            232                   8.0           1\n",
       "LUNG1-296            177                   6.0           1\n",
       "\n",
       "[100 rows x 3 columns]"
      ]
     },
     "execution_count": 40,
     "metadata": {},
     "output_type": "execute_result"
    }
   ],
   "source": [
    "label"
   ]
  },
  {
   "cell_type": "code",
   "execution_count": 56,
   "metadata": {},
   "outputs": [],
   "source": [
    "for i in range(0,len(file_list)):\n",
    "    if i<train_size:\n",
    "        if label['recurrence']['LUNG1-'+file_list[i][:3]]==1:\n",
    "            shutil.copy(os.path.join(org_path,file_list[i]),os.path.join(new_path,'train','recurrence'))\n",
    "        elif label['recurrence']['LUNG1-'+file_list[i][:3]]==0:\n",
    "            shutil.copy(os.path.join(org_path,file_list[i]),os.path.join(new_path,'train','non-recurrence'))\n",
    "    elif i<train_size+val_size:\n",
    "        if label['recurrence']['LUNG1-'+file_list[i][:3]]==1:\n",
    "            shutil.copy(os.path.join(org_path,file_list[i]),os.path.join(new_path,'val','recurrence'))\n",
    "        elif label['recurrence']['LUNG1-'+file_list[i][:3]]==0:\n",
    "            shutil.copy(os.path.join(org_path,file_list[i]),os.path.join(new_path,'val','non-recurrence'))\n",
    "    else:\n",
    "        if label['recurrence']['LUNG1-'+file_list[i][:3]]==1:\n",
    "            shutil.copy(os.path.join(org_path,file_list[i]),os.path.join(new_path,'test','recurrence'))\n",
    "        elif label['recurrence']['LUNG1-'+file_list[i][:3]]==0:\n",
    "            shutil.copy(os.path.join(org_path,file_list[i]),os.path.join(new_path,'test','non-recurrence'))"
   ]
  }
 ],
 "metadata": {
  "kernelspec": {
   "display_name": "Python 3",
   "language": "python",
   "name": "python3"
  },
  "language_info": {
   "codemirror_mode": {
    "name": "ipython",
    "version": 3
   },
   "file_extension": ".py",
   "mimetype": "text/x-python",
   "name": "python",
   "nbconvert_exporter": "python",
   "pygments_lexer": "ipython3",
   "version": "3.7.3"
  }
 },
 "nbformat": 4,
 "nbformat_minor": 2
}
