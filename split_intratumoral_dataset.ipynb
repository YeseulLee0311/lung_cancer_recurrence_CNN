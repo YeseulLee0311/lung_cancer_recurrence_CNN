{
 "cells": [
  {
   "cell_type": "code",
   "execution_count": 1,
   "metadata": {},
   "outputs": [],
   "source": [
    "import os\n",
    "import shutil\n",
    "import pandas as pd\n",
    "import random\n",
    "import glob"
   ]
  },
  {
   "cell_type": "code",
   "execution_count": 2,
   "metadata": {},
   "outputs": [],
   "source": [
    "org_path='./TCIA_new'\n",
    "new_path_intra='./TCIA_splitted_intra'\n",
    "new_path_peri='./TCIA_splitted_peri'"
   ]
  },
  {
   "cell_type": "code",
   "execution_count": 3,
   "metadata": {},
   "outputs": [],
   "source": [
    "if not(os.path.isdir(new_path_intra)):\n",
    "    os.makedirs(new_path_intra)\n",
    "    os.makedirs(os.path.join(new_path_intra,'train'))\n",
    "    os.makedirs(os.path.join(new_path_intra,'train','recurrence'))\n",
    "    os.makedirs(os.path.join(new_path_intra,'train','non-recurrence'))\n",
    "    os.makedirs(os.path.join(new_path_intra,'val'))\n",
    "    os.makedirs(os.path.join(new_path_intra,'val','recurrence'))\n",
    "    os.makedirs(os.path.join(new_path_intra,'val','non-recurrence'))\n",
    "    os.makedirs(os.path.join(new_path_intra,'test'))\n",
    "    os.makedirs(os.path.join(new_path_intra,'test','recurrence'))\n",
    "    os.makedirs(os.path.join(new_path_intra,'test','non-recurrence'))    "
   ]
  },
  {
   "cell_type": "code",
   "execution_count": 4,
   "metadata": {},
   "outputs": [],
   "source": [
    "if not(os.path.isdir(new_path_peri)):\n",
    "    os.makedirs(new_path_peri)\n",
    "    os.makedirs(os.path.join(new_path_peri,'train'))\n",
    "    os.makedirs(os.path.join(new_path_peri,'train','recurrence'))\n",
    "    os.makedirs(os.path.join(new_path_peri,'train','non-recurrence'))\n",
    "    os.makedirs(os.path.join(new_path_peri,'val'))\n",
    "    os.makedirs(os.path.join(new_path_peri,'val','recurrence'))\n",
    "    os.makedirs(os.path.join(new_path_peri,'val','non-recurrence'))\n",
    "    os.makedirs(os.path.join(new_path_peri,'test'))\n",
    "    os.makedirs(os.path.join(new_path_peri,'test','recurrence'))\n",
    "    os.makedirs(os.path.join(new_path_peri,'test','non-recurrence'))    "
   ]
  },
  {
   "cell_type": "code",
   "execution_count": 5,
   "metadata": {},
   "outputs": [],
   "source": [
    "label=pd.read_csv('./label.csv',sep=',')"
   ]
  },
  {
   "cell_type": "code",
   "execution_count": 6,
   "metadata": {},
   "outputs": [],
   "source": [
    "label=label.set_index('PatientID')"
   ]
  },
  {
   "cell_type": "code",
   "execution_count": 7,
   "metadata": {},
   "outputs": [
    {
     "data": {
      "text/html": [
       "<div>\n",
       "<style scoped>\n",
       "    .dataframe tbody tr th:only-of-type {\n",
       "        vertical-align: middle;\n",
       "    }\n",
       "\n",
       "    .dataframe tbody tr th {\n",
       "        vertical-align: top;\n",
       "    }\n",
       "\n",
       "    .dataframe thead th {\n",
       "        text-align: right;\n",
       "    }\n",
       "</style>\n",
       "<table border=\"1\" class=\"dataframe\">\n",
       "  <thead>\n",
       "    <tr style=\"text-align: right;\">\n",
       "      <th></th>\n",
       "      <th>Survival.time</th>\n",
       "      <th>Survival.time(month)</th>\n",
       "      <th>recurrence</th>\n",
       "    </tr>\n",
       "    <tr>\n",
       "      <th>PatientID</th>\n",
       "      <th></th>\n",
       "      <th></th>\n",
       "      <th></th>\n",
       "    </tr>\n",
       "  </thead>\n",
       "  <tbody>\n",
       "    <tr>\n",
       "      <th>LUNG1-004</th>\n",
       "      <td>141</td>\n",
       "      <td>5.0</td>\n",
       "      <td>1</td>\n",
       "    </tr>\n",
       "    <tr>\n",
       "      <th>LUNG1-005</th>\n",
       "      <td>353</td>\n",
       "      <td>12.0</td>\n",
       "      <td>1</td>\n",
       "    </tr>\n",
       "    <tr>\n",
       "      <th>LUNG1-006</th>\n",
       "      <td>173</td>\n",
       "      <td>6.0</td>\n",
       "      <td>1</td>\n",
       "    </tr>\n",
       "    <tr>\n",
       "      <th>LUNG1-007</th>\n",
       "      <td>137</td>\n",
       "      <td>5.0</td>\n",
       "      <td>1</td>\n",
       "    </tr>\n",
       "    <tr>\n",
       "      <th>LUNG1-008</th>\n",
       "      <td>77</td>\n",
       "      <td>3.0</td>\n",
       "      <td>1</td>\n",
       "    </tr>\n",
       "    <tr>\n",
       "      <th>...</th>\n",
       "      <td>...</td>\n",
       "      <td>...</td>\n",
       "      <td>...</td>\n",
       "    </tr>\n",
       "    <tr>\n",
       "      <th>LUNG1-285</th>\n",
       "      <td>303</td>\n",
       "      <td>10.0</td>\n",
       "      <td>1</td>\n",
       "    </tr>\n",
       "    <tr>\n",
       "      <th>LUNG1-288</th>\n",
       "      <td>154</td>\n",
       "      <td>5.0</td>\n",
       "      <td>1</td>\n",
       "    </tr>\n",
       "    <tr>\n",
       "      <th>LUNG1-290</th>\n",
       "      <td>321</td>\n",
       "      <td>11.0</td>\n",
       "      <td>1</td>\n",
       "    </tr>\n",
       "    <tr>\n",
       "      <th>LUNG1-292</th>\n",
       "      <td>232</td>\n",
       "      <td>8.0</td>\n",
       "      <td>1</td>\n",
       "    </tr>\n",
       "    <tr>\n",
       "      <th>LUNG1-296</th>\n",
       "      <td>177</td>\n",
       "      <td>6.0</td>\n",
       "      <td>1</td>\n",
       "    </tr>\n",
       "  </tbody>\n",
       "</table>\n",
       "<p>100 rows × 3 columns</p>\n",
       "</div>"
      ],
      "text/plain": [
       "           Survival.time  Survival.time(month)  recurrence\n",
       "PatientID                                                 \n",
       "LUNG1-004            141                   5.0           1\n",
       "LUNG1-005            353                  12.0           1\n",
       "LUNG1-006            173                   6.0           1\n",
       "LUNG1-007            137                   5.0           1\n",
       "LUNG1-008             77                   3.0           1\n",
       "...                  ...                   ...         ...\n",
       "LUNG1-285            303                  10.0           1\n",
       "LUNG1-288            154                   5.0           1\n",
       "LUNG1-290            321                  11.0           1\n",
       "LUNG1-292            232                   8.0           1\n",
       "LUNG1-296            177                   6.0           1\n",
       "\n",
       "[100 rows x 3 columns]"
      ]
     },
     "execution_count": 7,
     "metadata": {},
     "output_type": "execute_result"
    }
   ],
   "source": [
    "label"
   ]
  },
  {
   "cell_type": "code",
   "execution_count": 8,
   "metadata": {},
   "outputs": [
    {
     "name": "stdout",
     "output_type": "stream",
     "text": [
      "The number of patients :  100\n"
     ]
    }
   ],
   "source": [
    "###get patient ID from filename###\n",
    "patientID=[]\n",
    "for x in os.listdir(os.path.join(org_path,'peritumoral_patches')):\n",
    "    if not(x.endswith('.png')):\n",
    "        continue\n",
    "    if x[:3] in patientID:\n",
    "        continue\n",
    "    else:\n",
    "        patientID.append(x[:3])\n",
    "print(\"The number of patients : \", len(patientID))"
   ]
  },
  {
   "cell_type": "code",
   "execution_count": 9,
   "metadata": {},
   "outputs": [
    {
     "name": "stdout",
     "output_type": "stream",
     "text": [
      "['099', '239', '173', '225', '063', '024', '047', '061', '285', '155', '163', '005', '034', '115', '130', '237', '073', '258', '092', '045', '145', '012', '208', '279', '290', '266', '250', '026', '135', '041', '096', '022', '151', '014', '114', '143', '008', '268', '233', '006', '030', '224', '252', '032', '242', '122', '098', '190', '257', '018', '200', '167', '177', '104', '264', '116', '053', '276', '046', '004', '284', '011', '035', '210', '292', '095', '054', '025', '146', '101', '202', '263', '181', '193', '093', '037', '197', '123', '265', '107', '007', '009', '064', '222', '131', '109', '230', '176', '105', '042', '288', '121', '050', '206', '078', '052', '117', '296', '150', '068']\n"
     ]
    }
   ],
   "source": [
    "print(patientID)"
   ]
  },
  {
   "cell_type": "code",
   "execution_count": 10,
   "metadata": {},
   "outputs": [
    {
     "name": "stdout",
     "output_type": "stream",
     "text": [
      "The number of recurred patches:  201\n",
      "The number of non-recurred patches:  95\n"
     ]
    }
   ],
   "source": [
    "###caculate recurrence per patch using label.csv###\n",
    "recur=[]\n",
    "nonrecur=[]\n",
    "for file in os.listdir(os.path.join(org_path,'patches_euclidean')):\n",
    "    if not file.endswith('.png'):\n",
    "        continue\n",
    "    if label['recurrence']['LUNG1-'+file[0:3]]==1:\n",
    "        recur.append(file)\n",
    "    else:\n",
    "        nonrecur.append(file)\n",
    "print(\"The number of recurred patches: \",len(recur))\n",
    "print(\"The number of non-recurred patches: \",len(nonrecur))"
   ]
  },
  {
   "cell_type": "code",
   "execution_count": 11,
   "metadata": {},
   "outputs": [
    {
     "name": "stdout",
     "output_type": "stream",
     "text": [
      "The number of training data :  128.64000000000001\n",
      "The number of validation data :  32.160000000000004\n",
      "The number of test data :  40.2\n"
     ]
    }
   ],
   "source": [
    "#####recurrence#####\n",
    "print(\"The number of training data : \",len(recur)*0.64)\n",
    "print(\"The number of validation data : \",len(recur)*0.16)\n",
    "print(\"The number of test data : \",len(recur)*0.2)"
   ]
  },
  {
   "cell_type": "code",
   "execution_count": 12,
   "metadata": {},
   "outputs": [
    {
     "name": "stdout",
     "output_type": "stream",
     "text": [
      "The number of training data :  60.800000000000004\n",
      "The number of validation data :  15.200000000000001\n",
      "The number of test data :  19.0\n"
     ]
    }
   ],
   "source": [
    "#####recurrence#####\n",
    "print(\"The number of training data : \",len(nonrecur)*0.64)\n",
    "print(\"The number of validation data : \",len(nonrecur)*0.16)\n",
    "print(\"The number of test data : \",len(nonrecur)*0.2)"
   ]
  },
  {
   "cell_type": "code",
   "execution_count": 13,
   "metadata": {},
   "outputs": [],
   "source": [
    "random.shuffle(recur)\n",
    "random.shuffle(nonrecur)"
   ]
  },
  {
   "cell_type": "code",
   "execution_count": 14,
   "metadata": {},
   "outputs": [],
   "source": [
    "###split dataset###\n",
    "for i in range(len(recur)):\n",
    "    file_path_intra=glob.glob(os.path.join(org_path,'patches_euclidean',recur[i]))[0]\n",
    "    #file_path_peri=glob.glob(os.path.join(org_path,'peritumoral_patches',recur[i]))[0]   \n",
    "    if i<129:\n",
    "        shutil.copy(file_path_intra,os.path.join(new_path_intra,'train','recurrence'))\n",
    "        #shutil.copy(file_path_peri,os.path.join(new_path_peri,'train','recurrence'))\n",
    "    elif i<129+32:\n",
    "        shutil.copy(file_path_intra,os.path.join(new_path_intra,'val','recurrence'))\n",
    "        #shutil.copy(file_path_peri,os.path.join(new_path_peri,'val','recurrence'))\n",
    "    else:\n",
    "        shutil.copy(file_path_intra,os.path.join(new_path_intra,'test','recurrence'))\n",
    "        #shutil.copy(file_path_peri,os.path.join(new_path_peri,'test','recurrence'))"
   ]
  },
  {
   "cell_type": "code",
   "execution_count": 15,
   "metadata": {
    "scrolled": true
   },
   "outputs": [],
   "source": [
    "###split dataset###\n",
    "for i in range(len(nonrecur)):\n",
    "    file_path_intra=glob.glob(os.path.join(org_path,'patches_euclidean',nonrecur[i]))[0]\n",
    "    #file_path_peri=glob.glob(os.path.join(org_path,'peritumoral_patches',nonrecur[i]))[0]   \n",
    "    if i<61:\n",
    "        shutil.copy(file_path_intra,os.path.join(new_path_intra,'train','non-recurrence'))\n",
    "        #shutil.copy(file_path_peri,os.path.join(new_path_peri,'train','non-recurrence'))\n",
    "    elif i<61+15:\n",
    "        shutil.copy(file_path_intra,os.path.join(new_path_intra,'val','non-recurrence'))\n",
    "        #shutil.copy(file_path_peri,os.path.join(new_path_peri,'val','non-recurrence'))\n",
    "    else:\n",
    "        shutil.copy(file_path_intra,os.path.join(new_path_intra,'test','non-recurrence'))\n",
    "        #shutil.copy(file_path_peri,os.path.join(new_path_peri,'test','non-recurrence'))"
   ]
  }
 ],
 "metadata": {
  "kernelspec": {
   "display_name": "Python 3",
   "language": "python",
   "name": "python3"
  },
  "language_info": {
   "codemirror_mode": {
    "name": "ipython",
    "version": 3
   },
   "file_extension": ".py",
   "mimetype": "text/x-python",
   "name": "python",
   "nbconvert_exporter": "python",
   "pygments_lexer": "ipython3",
   "version": "3.7.3"
  }
 },
 "nbformat": 4,
 "nbformat_minor": 2
}
