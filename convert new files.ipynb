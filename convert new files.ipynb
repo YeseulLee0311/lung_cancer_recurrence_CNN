{
 "cells": [
  {
   "cell_type": "code",
   "execution_count": null,
   "metadata": {},
   "outputs": [],
   "source": [
    "import os\n",
    "import cv2\n",
    "path = 'D:/TCIA/'\n",
    "imgName = []\n",
    "for x in os.listdir(os.path.join(path, 'image')):\n",
    "    imageName, imageExt =os.path.splitext(x)\n",
    "    imgName.append(imageName)\n",
    "\n",
    "for i in imgName:\n",
    "    patientID = i[:3]\n",
    "    if not(os.path.isdir(os.path.join(path,'LUNG1-'+patientID))):\n",
    "        os.makedirs(os.path.join(path,'LUNG1-'+i[:3]))\n",
    "        os.makedirs(os.path.join(path,'LUNG1-'+i[:3],'CT'))\n",
    "        os.makedirs(os.path.join(path,'LUNG1-'+i[:3],'MASK'))\n",
    "        ctImg = cv2.imread(os.path.join(path, 'image', i+imageExt))\n",
    "        cv2.imwrite(os.path.join(path, 'LUNG1-'+patientID, 'CT', 'CT_'+i[3:6]+'.png'), ctImg)\n",
    "        patImg = cv2.imread(os.path.join(path, 'mask', i+imageExt))\n",
    "        cv2.imwrite(os.path.join(path, 'LUNG1-'+patientID, 'MASK', 'mask_'+i[3:6]+'.png'),patImg)\n",
    "        #print(\"done1\")\n",
    "    else:\n",
    "        ctImg = cv2.imread(os.path.join(path, 'image', i+imageExt))\n",
    "        cv2.imwrite(os.path.join(path, 'LUNG1-'+patientID, 'CT', 'CT_'+i[3:6]+'.png'), ctImg)\n",
    "        patImg = cv2.imread(os.path.join(path, 'mask', i+imageExt))\n",
    "        cv2.imwrite(os.path.join(path, 'LUNG1-'+patientID, 'MASK', 'mask_'+i[3:6]+'.png'),patImg)\n",
    "        #print(\"done\")"
   ]
  }
 ],
 "metadata": {
  "kernelspec": {
   "display_name": "Python 3",
   "language": "python",
   "name": "python3"
  },
  "language_info": {
   "codemirror_mode": {
    "name": "ipython",
    "version": 3
   },
   "file_extension": ".py",
   "mimetype": "text/x-python",
   "name": "python",
   "nbconvert_exporter": "python",
   "pygments_lexer": "ipython3",
   "version": "3.6.5"
  }
 },
 "nbformat": 4,
 "nbformat_minor": 2
}
