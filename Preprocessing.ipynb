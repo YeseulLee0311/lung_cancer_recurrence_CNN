{
 "cells": [
  {
   "cell_type": "code",
   "execution_count": null,
   "metadata": {},
   "outputs": [],
   "source": [
    "import cv2\n",
    "import os\n",
    "import pydicom as dicom\n",
    "import numpy as np\n",
    "import matplotlib.pyplot as plt"
   ]
  },
  {
   "cell_type": "code",
   "execution_count": null,
   "metadata": {
    "scrolled": true
   },
   "outputs": [],
   "source": [
    "###change data format(DICOM->PNG or JPG)###\n",
    "path='./TCIA_test'\n",
    "PNG=True\n",
    "for pat_dir in os.listdir(path):\n",
    "    for x in os.listdir(os.path.join(path,pat_dir,'CT')):\n",
    "        #load .dcm file\n",
    "        dcm_img=dicom.dcmread(os.path.join(path,pat_dir,'CT',x))\n",
    "        #scale pixel\n",
    "        pix_arr=dcm_img.pixel_array.astype(float)\n",
    "        pix_arr_scaled=(np.maximum(pix_arr,0) / pix_arr.max()) * 255.0\n",
    "        pix_arr_scaled=np.uint8(pix_arr_scaled)\n",
    "        #change format: .dcm to .png or .jpg\n",
    "        if PNG == False:\n",
    "            x = x.replace('.dcm', '.jpg')\n",
    "        else:\n",
    "            x = x.replace('.dcm', '.png')\n",
    "        cv2.imwrite(os.path.join(path,pat_dir,'CT',x),pix_arr_scaled)"
   ]
  },
  {
   "cell_type": "code",
   "execution_count": null,
   "metadata": {
    "scrolled": true
   },
   "outputs": [],
   "source": [
    "bestImg={}\n",
    "percentPix={}\n",
    "for pat_dir in os.listdir(path):\n",
    "    for x in os.listdir(os.path.join(path,pat_dir,'MASK')):\n",
    "        _,ext=os.path.splitext(x)\n",
    "        if ext=='.png' or ext=='.jpg':\n",
    "            img=cv2.imread(os.path.join(path,pat_dir,'MASK',x),cv2.IMREAD_GRAYSCALE)\n",
    "        else:\n",
    "            continue\n",
    "        numWhitePix = 0 \n",
    "        for i in range(img.shape[0]):\n",
    "            for j in range(img.shape[1]):\n",
    "                if img[i][j]==255:\n",
    "                    numWhitePix+=1\n",
    "        percentPix.update({x : (numWhitePix / img.size) * 100.0})\n",
    "    print(pat_dir,': ',max(percentPix,key=percentPix.get))\n",
    "    bestImg.update({pat_dir:max(percentPix,key=percentPix.get)})\n",
    "    percentPix={}"
   ]
  }
 ],
 "metadata": {
  "kernelspec": {
   "display_name": "Python 3",
   "language": "python",
   "name": "python3"
  },
  "language_info": {
   "codemirror_mode": {
    "name": "ipython",
    "version": 3
   },
   "file_extension": ".py",
   "mimetype": "text/x-python",
   "name": "python",
   "nbconvert_exporter": "python",
   "pygments_lexer": "ipython3",
   "version": "3.7.3"
  }
 },
 "nbformat": 4,
 "nbformat_minor": 2
}
