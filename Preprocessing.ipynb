{
 "cells": [
  {
   "cell_type": "code",
   "execution_count": null,
   "metadata": {
    "scrolled": true
   },
   "outputs": [],
   "source": [
    "import cv2\n",
    "import os\n",
    "import pydicom as dicom\n",
    "import numpy as np\n",
    "import matplotlib.pyplot as plt"
   ]
  },
  {
   "cell_type": "code",
   "execution_count": null,
   "metadata": {},
   "outputs": [],
   "source": [
    "path='./temp_TCIA'"
   ]
  },
  {
   "cell_type": "code",
   "execution_count": null,
   "metadata": {
    "scrolled": true
   },
   "outputs": [],
   "source": [
    "'''\n",
    "###change data format(DICOM->PNG or JPG)###\n",
    "PNG=True\n",
    "for pat_dir in os.listdir(path):\n",
    "    for x in os.listdir(os.path.join(path,pat_dir,'CT')):\n",
    "        #load .dcm file\n",
    "        dcm_img=dicom.dcmread(os.path.join(path,pat_dir,'CT',x))\n",
    "        #scale pixel\n",
    "        pix_arr=dcm_img.pixel_array.astype(float)\n",
    "        pix_arr_scaled=(np.maximum(pix_arr,0) / pix_arr.max()) * 255.0\n",
    "        pix_arr_scaled=np.uint8(pix_arr_scaled)\n",
    "        #change format: .dcm to .png or .jpg\n",
    "        if PNG == False:\n",
    "            x = x.replace('.dcm', '.jpg')\n",
    "        else:\n",
    "            x = x.replace('.dcm', '.png')\n",
    "        cv2.imwrite(os.path.join(path,pat_dir,'CT',x),pix_arr_scaled)\n",
    "'''"
   ]
  },
  {
   "cell_type": "code",
   "execution_count": null,
   "metadata": {},
   "outputs": [],
   "source": [
    "dict_dcm_IN = {}\n",
    "tmp_sorted_IN = []\n",
    "for pat_dir in os.listdir(path):\n",
    "    for x in os.listdir(os.path.join(path, pat_dir, 'CT')):\n",
    "        #loading DCM file's Instance Number\n",
    "        fileName, fileExt = os.path.splitext(x) #splilt file into file's name and file's esxtension name\n",
    "        if fileExt == '.dcm':\n",
    "            dcm_file = dicom.dcmread(os.path.join(path, pat_dir, 'CT', x))\n",
    "            dcm_IN = int(dcm_file.InstanceNumber) #instance num, convert to int for sorting\n",
    "            dict_dcm_IN.update({fileName : dcm_IN}) #file'name : instance num\n",
    "            tmp_sorted_IN = sorted(dict_dcm_IN.items(), key = lambda item:item[1]) #sorted with instance num(value), file's name : instance num\n",
    "        else:\n",
    "            continue\n",
    "    for i in range(len(tmp_sorted_IN)):\n",
    "        dcm_img = dicom.read_file(os.path.join(path, pat_dir, 'CT', tmp_sorted_IN[i][0]+'.dcm'))\n",
    "        pix_arr = dcm_img.pixel_array.astype(float)\n",
    "        pix_arr_scaled = (np.maximum(pix_arr, 0) / pix_arr.max()) * 255.0\n",
    "        pix_arr_scaled = np.uint8(pix_arr_scaled)\n",
    "        cv2.imwrite(os.path.join(path, pat_dir, 'CT', 'CT_' + str(i+1).zfill(3) + '.png'), pix_arr_scaled) #rename connected with mask file's name\n",
    "    dict_dcm_IN = {} #reset to reuse\n",
    "    tmp_sorted_IN = [] #reset to reuse\n",
    "#print(dict_dcm_IN)\n",
    "#print(\"----------\")\n",
    "#print(tmp_sorted_IN)\n",
    "#print(\"done\")"
   ]
  },
  {
   "cell_type": "code",
   "execution_count": null,
   "metadata": {
    "scrolled": false
   },
   "outputs": [],
   "source": [
    "#bestImg={patient dir:mask filname}\n",
    "#bestSize={patient dir:max size of nodule}\n",
    "bestImg={}\n",
    "bestSize={}\n",
    "maxDia={} #maxDia={mask filename:size of nodule}\n",
    "for pat_dir in os.listdir(path):\n",
    "    for x in os.listdir(os.path.join(path,pat_dir,'MASK')):\n",
    "        _,ext=os.path.splitext(x)\n",
    "        if ext=='.png' or ext=='.jpg':\n",
    "            img=cv2.imread(os.path.join(path,pat_dir,'MASK',x),cv2.IMREAD_GRAYSCALE)\n",
    "        else:\n",
    "            continue\n",
    "        '''\n",
    "        numWhitePix = 0 \n",
    "        for i in range(img.shape[0]):\n",
    "            for j in range(img.shape[1]):\n",
    "                if img[i][j]==255:\n",
    "                    numWhitePix+=1\n",
    "        '''\n",
    "        mask_contours,_=cv2.findContours(img, cv2.RETR_TREE, cv2.CHAIN_APPROX_SIMPLE)\n",
    "        if not mask_contours:\n",
    "            continue\n",
    "        contoursX=[]\n",
    "        contoursY=[]\n",
    "        for i in range(len(mask_contours)):\n",
    "            mask_contours[i].shape=(len(mask_contours[i]),2)\n",
    "            for j in range(len(mask_contours[i])):\n",
    "                contoursX.append(mask_contours[i][j][0])\n",
    "                contoursY.append(mask_contours[i][j][1])\n",
    "        #print(contoursX)\n",
    "        max_dia=(max(contoursX)-min(contoursX)) if (max(contoursX)-min(contoursX))>(max(contoursY)-min(contoursY)) else (max(contoursY)-min(contoursY))\n",
    "        maxDia.update({x : max_dia})\n",
    "    #print(pat_dir,': ',max(maxDia,key=maxDia.get),max(maxDia.values()))\n",
    "    bestImg.update({pat_dir:max(maxDia,key=maxDia.get)})\n",
    "    bestSize.update({pat_dir:max(maxDia.values())})\n",
    "    #print(pat_dir,\": \",maxDia)\n",
    "    maxDia={}\n",
    "patch_size=max(bestSize.values())\n",
    "#print(bestImg)\n",
    "#print(bestSize)\n",
    "#print(patch_size)"
   ]
  },
  {
   "cell_type": "code",
   "execution_count": null,
   "metadata": {},
   "outputs": [],
   "source": [
    "'''\n",
    "###decide patch size###\n",
    "#find the patient who have biggest nodule and the mask filename of that patient\n",
    "max_img_patient=max(bestSize,key=bestSize.get)\n",
    "max_img_filename=bestImg[max_img_patient]\n",
    "#load mask image\n",
    "max_img=cv2.imread(os.path.join(path,max_img_patient,'MASK',max_img_filename),cv2.IMREAD_GRAYSCALE)\n",
    "#find contours of that image\n",
    "contours,hierarchy= cv2.findContours(max_img, cv2.RETR_TREE, cv2.CHAIN_APPROX_SIMPLE)\n",
    "#append all x and y value of contour to list\n",
    "\n",
    "patch_size=0\n",
    "x=[]\n",
    "y=[]\n",
    "for i in range(len(contours)):\n",
    "    contours[i].shape=(len(contours[i]),2)\n",
    "    for j in range(len(contours[i])):\n",
    "        x.append(contours[i][j][0])\n",
    "        y.append(contours[i][j][1])\n",
    "#print((max(x)-min(x)),(max(y)-min(y)))\n",
    "#patch size = max(x)-min(x)+40 or max(y)-min(y)+40\n",
    "patch_size=(max(x)-min(x))+50 if (max(x)-min(x))>(max(y)-min(y)) else (max(y)-min(y))+50\n",
    "print('patch_size: ',patch_size)\n",
    "'''"
   ]
  },
  {
   "cell_type": "code",
   "execution_count": null,
   "metadata": {},
   "outputs": [],
   "source": [
    "#create a patch directory per every patient\n",
    "for pat_dir in list(os.listdir(path)):\n",
    "    try:\n",
    "        if not(os.path.isdir(os.path.join(path,pat_dir,'patch'))):\n",
    "            os.makedirs(os.path.join(path,pat_dir,'patch'))\n",
    "    except OSError as e:\n",
    "        if e.errno != errno.EEXIST:\n",
    "            print(\"Failed to create directory!!!!!\")\n",
    "            raise"
   ]
  },
  {
   "cell_type": "code",
   "execution_count": null,
   "metadata": {
    "scrolled": true
   },
   "outputs": [],
   "source": [
    "###create a patch file per every patient###\n",
    "for pat_dir in list(os.listdir(path)):\n",
    "    #mask filename, ct filename, patch filename\n",
    "    mask_filename,ext=os.path.splitext(bestImg[pat_dir])\n",
    "    ct_filename=mask_filename.replace('mask','CT')+'.png'\n",
    "    patch_filename=mask_filename.replace('mask','patch')+'.png'\n",
    "    \n",
    "    #load mask and ct files\n",
    "    mask=cv2.imread(os.path.join(path,pat_dir,'MASK',bestImg[pat_dir]),cv2.IMREAD_GRAYSCALE)\n",
    "    ct=cv2.imread(os.path.join(path,pat_dir,'CT',ct_filename),cv2.IMREAD_GRAYSCALE)  \n",
    "\n",
    "    #find center coordinates of nodule \n",
    "    M=cv2.moments(mask)\n",
    "    cX = int(M[\"m10\"] / M[\"m00\"])\n",
    "    cY = int(M[\"m01\"] / M[\"m00\"])\n",
    "    \n",
    "    #crop ct image depending on its center coordinates(=create the patch)\n",
    "\n",
    "    patch=ct[cY-int(patch_size/2):cY+int(patch_size/2),cX-int(patch_size/2):cX+int(patch_size/2)]\n",
    "\n",
    "    patch_mask=mask[cY-int(patch_size/2):cY+int(patch_size/2),cX-int(patch_size/2):cX+int(patch_size/2)]\n",
    "    \n",
    "    #write the patch file on the patch directory\n",
    "    cv2.imwrite(os.path.join(path,pat_dir,'patch',patch_filename),patch)\n",
    "    #plt.imshow(patch,cmap='gray')\n",
    "    #plt.imshow(ct,cmap='gray')\n",
    "    #print(pat_dir,mask_filename)\n",
    "    #lt.imshow(patch_mask,cmap='gray')"
   ]
  }
 ],
 "metadata": {
  "kernelspec": {
   "display_name": "Python 3",
   "language": "python",
   "name": "python3"
  },
  "language_info": {
   "codemirror_mode": {
    "name": "ipython",
    "version": 3
   },
   "file_extension": ".py",
   "mimetype": "text/x-python",
   "name": "python",
   "nbconvert_exporter": "python",
   "pygments_lexer": "ipython3",
   "version": "3.7.3"
  }
 },
 "nbformat": 4,
 "nbformat_minor": 2
}
