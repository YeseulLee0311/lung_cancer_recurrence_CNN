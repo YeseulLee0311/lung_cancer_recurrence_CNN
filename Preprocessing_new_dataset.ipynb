{
 "cells": [
  {
   "cell_type": "code",
   "execution_count": 26,
   "metadata": {},
   "outputs": [],
   "source": [
    "from scipy.spatial import distance as dist\n",
    "from imutils import perspective\n",
    "from imutils import contours\n",
    "import numpy as np\n",
    "import argparse\n",
    "import imutils\n",
    "import cv2\n",
    "import matplotlib.pyplot as plt\n",
    "import os\n",
    "import shutil"
   ]
  },
  {
   "cell_type": "code",
   "execution_count": 2,
   "metadata": {},
   "outputs": [],
   "source": [
    "#path of the new dataset\n",
    "path='./TCIA_new'"
   ]
  },
  {
   "cell_type": "code",
   "execution_count": 10,
   "metadata": {},
   "outputs": [
    {
     "name": "stdout",
     "output_type": "stream",
     "text": [
      "The number of patients :  100\n"
     ]
    }
   ],
   "source": [
    "###get patient ID from filename###\n",
    "patientID=[]\n",
    "for x in os.listdir(os.path.join(path,'image')):\n",
    "    if x[:3] in patientID:\n",
    "        continue\n",
    "    else:\n",
    "        patientID.append(x[:3])\n",
    "print(\"The number of patients : \", len(patientID))"
   ]
  },
  {
   "cell_type": "code",
   "execution_count": 18,
   "metadata": {
    "scrolled": true
   },
   "outputs": [],
   "source": [
    "###get best image per patient###\n",
    "maxDia={}    #maxDia={mask file name:radius of tumor}\n",
    "bestSize={}  #bestSize={patientID:radius of the biggest tumor}\n",
    "bestImg={}   #bestImg={patientID:mask file name}\n",
    "for i in patientID:\n",
    "    for x in [file for file in os.listdir(os.path.join(path,'mask')) if file.startswith(i)]:\n",
    "        fileName,ext=os.path.splitext(x)\n",
    "        if ext=='.png' or ext=='.jpg':\n",
    "            img=cv2.imread(os.path.join(path,'mask',x),cv2.COLOR_BGR2GRAY)\n",
    "        else:\n",
    "            continue\n",
    "        #find contours from the image\n",
    "        cnts,_=cv2.findContours(img, 1, 2)\n",
    "        #if there is no tumor, continue\n",
    "        if len(cnts)==0:\n",
    "            continue\n",
    "        '''\n",
    "        if len(cnts)>1:\n",
    "            print(x,len(cnts))\n",
    "        '''\n",
    "        #get radius of the tumor\n",
    "        for c in cnts:\n",
    "            #find minimum enclosing circle and get radius\n",
    "            (cX,cY),radius =cv2.minEnclosingCircle(c) \n",
    "            maxDia.update({x:radius}) #update maxDia dictionary\n",
    "    #update bestImg and bestSize dictionary\n",
    "    bestImg.update({i:max(maxDia,key=maxDia.get)})\n",
    "    bestSize.update({i:max(maxDia.values())})    \n",
    "    maxDia={}"
   ]
  },
  {
   "cell_type": "code",
   "execution_count": 33,
   "metadata": {
    "scrolled": true
   },
   "outputs": [
    {
     "name": "stdout",
     "output_type": "stream",
     "text": [
      "{'061': '061034.png', '290': '290030.png', '068': '068036.png', '284': '284041.png', '206': '206032.png', '208': '208032.png', '034': '034029.png', '099': '099029.png', '190': '190040.png', '115': '115028.png', '008': '008033.png', '197': '197031.png', '266': '266032.png', '047': '047031.png', '053': '053035.png', '006': '006034.png', '012': '012036.png', '233': '233024.png', '268': '268033.png', '123': '123033.png', '078': '078032.png', '202': '202035.png', '250': '250032.png', '257': '257028.png', '024': '024031.png', '030': '030033.png', '130': '130039.png', '176': '176030.png', '224': '224029.png', '005': '005027.png', '276': '276027.png', '230': '230036.png', '239': '239035.png', '018': '018035.png', '093': '093031.png', '105': '105033.png', '143': '143035.png', '265': '265034.png', '237': '237031.png', '011': '011036.png', '193': '193035.png', '116': '116031.png', '150': '150032.png', '050': '050034.png', '200': '200038.png', '073': '073031.png', '252': '252034.png', '167': '167033.png', '296': '296032.png', '121': '121033.png', '135': '135030.png', '173': '173036.png', '035': '035034.png', '285': '285040.png', '026': '026041.png', '032': '032024.png', '107': '107033.png', '155': '155030.png', '007': '007031.png', '041': '041030.png', '098': '098033.png', '109': '109035.png', '014': '014032.png', '052': '052035.png', '096': '096033.png', '009': '009036.png', '114': '114032.png', '163': '163029.png', '177': '177035.png', '131': '131031.png', '063': '063034.png', '242': '242029.png', '258': '258027.png', '210': '210033.png', '288': '288033.png', '022': '022032.png', '064': '064032.png', '122': '122033.png', '222': '222036.png', '045': '045031.png', '264': '264031.png', '181': '181032.png', '092': '092032.png', '279': '279029.png', '095': '095044.png', '145': '145031.png', '151': '151033.png', '117': '117025.png', '225': '225036.png', '263': '263032.png', '104': '104028.png', '004': '004029.png', '042': '042034.png', '054': '054033.png', '101': '101036.png', '037': '037035.png', '146': '146034.png', '046': '046028.png', '025': '025034.png', '292': '292031.png'}\n"
     ]
    }
   ],
   "source": [
    "print(bestImg)"
   ]
  },
  {
   "cell_type": "code",
   "execution_count": 34,
   "metadata": {
    "scrolled": true
   },
   "outputs": [
    {
     "name": "stdout",
     "output_type": "stream",
     "text": [
      "{'061': 34.92859649658203, '290': 79.83273315429688, '068': 81.76347351074219, '284': 41.0037956237793, '206': 26.694843292236328, '208': 52.12709045410156, '034': 62.49077224731445, '099': 62.03700637817383, '190': 74.74156188964844, '115': 72.19086456298828, '008': 49.11476135253906, '197': 49.564422607421875, '266': 27.398515701293945, '047': 45.21348190307617, '053': 69.11051940917969, '006': 64.47119903564453, '012': 83.65100860595703, '233': 72.1446762084961, '268': 41.188690185546875, '123': 63.460716247558594, '078': 28.221939086914062, '202': 20.15059471130371, '250': 20.183635711669922, '257': 78.05304718017578, '024': 35.0778923034668, '030': 58.46376419067383, '130': 55.946502685546875, '176': 31.515968322753906, '224': 67.92787170410156, '005': 72.60347747802734, '276': 97.51502227783203, '230': 55.538509368896484, '239': 77.69100952148438, '018': 67.54637908935547, '093': 58.39360046386719, '105': 90.51528930664062, '143': 75.16461944580078, '265': 39.22381591796875, '237': 54.60203552246094, '011': 77.03364562988281, '193': 73.10688781738281, '116': 83.81536865234375, '150': 28.415090560913086, '050': 42.34688186645508, '200': 79.40412902832031, '073': 71.61190032958984, '252': 19.96314811706543, '167': 19.137758255004883, '296': 29.094772338867188, '121': 35.401371002197266, '135': 37.07434844970703, '173': 81.92071533203125, '035': 83.5779037475586, '285': 67.06163787841797, '026': 83.04376220703125, '032': 56.3092041015625, '107': 38.707332611083984, '155': 54.900760650634766, '007': 31.977951049804688, '041': 56.773773193359375, '098': 17.0963191986084, '109': 75.22814178466797, '014': 27.45915985107422, '052': 67.48528289794922, '096': 84.12203216552734, '009': 78.94628143310547, '114': 20.000099182128906, '163': 85.14703369140625, '177': 44.500099182128906, '131': 35.885009765625, '063': 28.638835906982422, '242': 39.373313903808594, '258': 47.56584167480469, '210': 45.72026062011719, '288': 12.90358829498291, '022': 65.339599609375, '064': 39.16960144042969, '122': 32.6841926574707, '222': 37.845176696777344, '045': 67.31465911865234, '264': 60.8807258605957, '181': 82.43946838378906, '092': 64.45109558105469, '279': 47.312889099121094, '095': 81.169677734375, '145': 58.12184143066406, '151': 44.825172424316406, '117': 42.80514144897461, '225': 61.61989974975586, '263': 83.0332260131836, '104': 85.15437316894531, '004': 60.208229064941406, '042': 69.13945007324219, '054': 73.9003677368164, '101': 56.4359016418457, '037': 26.818389892578125, '146': 29.35634422302246, '046': 62.460086822509766, '025': 76.40036010742188, '292': 66.15744018554688}\n"
     ]
    }
   ],
   "source": [
    "print(bestSize)"
   ]
  },
  {
   "cell_type": "code",
   "execution_count": 31,
   "metadata": {},
   "outputs": [
    {
     "name": "stdout",
     "output_type": "stream",
     "text": [
      "The number of patches :  100\n"
     ]
    }
   ],
   "source": [
    "#make 'patches' dir\n",
    "if not(os.path.isdir(os.path.join(path,'patches'))):\n",
    "    os.makedirs(os.path.join(path,'patches'))\n",
    "#copy best patches to 'patches' dir\n",
    "for i in patientID:\n",
    "    shutil.copy(os.path.join(path,'image',bestImg[i]),os.path.join(path,'patches'))\n",
    "print(\"The number of patches : \",len(os.listdir(os.path.join(path,'patches'))))"
   ]
  }
 ],
 "metadata": {
  "kernelspec": {
   "display_name": "Python 3",
   "language": "python",
   "name": "python3"
  },
  "language_info": {
   "codemirror_mode": {
    "name": "ipython",
    "version": 3
   },
   "file_extension": ".py",
   "mimetype": "text/x-python",
   "name": "python",
   "nbconvert_exporter": "python",
   "pygments_lexer": "ipython3",
   "version": "3.7.3"
  }
 },
 "nbformat": 4,
 "nbformat_minor": 2
}
