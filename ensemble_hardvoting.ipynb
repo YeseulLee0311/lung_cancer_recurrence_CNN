{
 "cells": [
  {
   "cell_type": "code",
   "execution_count": 1,
   "metadata": {},
   "outputs": [],
   "source": [
    "from __future__ import print_function, division\n",
    "import torch\n",
    "import torch.nn as nn\n",
    "import torch.optim as optim\n",
    "from torch.optim import lr_scheduler\n",
    "import numpy as np\n",
    "import torchvision\n",
    "from torchvision import datasets, models, transforms\n",
    "import matplotlib.pyplot as plt\n",
    "import time\n",
    "import os\n",
    "import copy"
   ]
  },
  {
   "cell_type": "code",
   "execution_count": 56,
   "metadata": {},
   "outputs": [],
   "source": [
    "class Ensemble(nn.Module):\n",
    "    def __init__(self, modelA, modelB,modelC):\n",
    "        super(Ensemble, self).__init__()\n",
    "        self.modelA = modelA\n",
    "        self.modelB = modelB\n",
    "        self.modelC = modelC\n",
    "        \n",
    "    def forward(self, a,b,c,label):\n",
    "        x1 = self.modelA(a.clone())  \n",
    "        x1 = x1.view(x1.size(0), -1)\n",
    "        x2 = self.modelB(a.clone())\n",
    "        x2 = x2.view(x2.size(0), -1)\n",
    "        x3 = self.modelC(c.clone())\n",
    "        x3 = x3.view(x3.size(0), -1)\n",
    "       \n",
    "        ###hard voting###\n",
    "        _,x1_pred=torch.max(x1.data,1)\n",
    "        _,x2_pred=torch.max(x2.data,1)\n",
    "        _,x3_pred=torch.max(x3.data,1)\n",
    "\n",
    "        x=x1_pred+x2_pred+x3_pred\n",
    "        for i in range(0,len(label)):\n",
    "            if x[i]>=2:\n",
    "                x[i]=1\n",
    "            else:\n",
    "                x[i]=0\n",
    "                \n",
    "        '''\n",
    "        print('- X1')\n",
    "        print(x1)\n",
    "        print(x1_pred)\n",
    "        print('- X2')\n",
    "        print(x2)\n",
    "        print(x2_pred)\n",
    "        print('- X3')\n",
    "        print(x3)\n",
    "        print(x3_pred)\n",
    "        print('- Result')\n",
    "        print(x)\n",
    "        '''\n",
    "\n",
    "        return x"
   ]
  },
  {
   "cell_type": "code",
   "execution_count": 44,
   "metadata": {},
   "outputs": [],
   "source": [
    "def getConfusionMatrix(model):\n",
    "    model.eval()\n",
    "    confusion_matrix=np.zeros((2,2),dtype=int)\n",
    "    num_images=len(test_datasets_intra)\n",
    "    \n",
    "    with torch.no_grad():\n",
    "        for intra, peri, texture in zip(testloaders_intra,testloaders_peri,testloaders_texture):\n",
    "            #inputs = inputs.to(device)\n",
    "            #labels = labels.to(device)\n",
    "            img_intra,label_intra=intra\n",
    "            img_peri,label_peri=peri\n",
    "            img_texture,label_texture=texture\n",
    "            preds = model(img_intra,img_peri,img_texture, label_intra)\n",
    "            \n",
    "            for j in range(len(preds)):\n",
    "                if preds[j]==1 and label_intra[j]==1:\n",
    "                    term='TP'\n",
    "                    confusion_matrix[0][0]+=1\n",
    "                elif preds[j]==1 and label_intra[j]==0:\n",
    "                    term='FP'\n",
    "                    confusion_matrix[1][0]+=1\n",
    "                elif preds[j]==0 and label_intra[j]==1:\n",
    "                    term='FN'\n",
    "                    confusion_matrix[0][1]+=1\n",
    "                elif preds[j]==0 and label_intra[j]==0:\n",
    "                    term='TN'\n",
    "                    confusion_matrix[1][1]+=1\n",
    "\n",
    "        print('Confusion Matrix: ')\n",
    "        print(confusion_matrix)\n",
    "        print()\n",
    "        print('Sensitivity: ', 100*confusion_matrix[0][0]/(confusion_matrix[0][0]+confusion_matrix[0][1]))\n",
    "        print('Specificity: ', 100*confusion_matrix[1][1]/(confusion_matrix[1][1]+confusion_matrix[1][0]))\n",
    "        print('PPV: ', 100*confusion_matrix[0][0]/(confusion_matrix[0][0]+confusion_matrix[1][0]))\n",
    "        print('NPV: ', 100*confusion_matrix[1][1]/(confusion_matrix[1][1]+confusion_matrix[0][1]))\n",
    "        \n",
    "        return confusion_matrix"
   ]
  },
  {
   "cell_type": "code",
   "execution_count": 4,
   "metadata": {
    "scrolled": true
   },
   "outputs": [],
   "source": [
    "test_transforms = transforms.Compose([\n",
    "        transforms.Resize(256),\n",
    "        transforms.CenterCrop(224),\n",
    "        transforms.ToTensor(),\n",
    "        transforms.Normalize([0.485, 0.456, 0.406], [0.229, 0.224, 0.225])\n",
    "])\n",
    "\n",
    "data_dir_intra = './TCIA_splitted_intra10'\n",
    "test_datasets_intra = datasets.ImageFolder(os.path.join(data_dir_intra, 'test'),\n",
    "                                          test_transforms)\n",
    "testloaders_intra = torch.utils.data.DataLoader(test_datasets_intra, batch_size=4,\n",
    "                                             shuffle=False, num_workers=0)\n",
    "\n",
    "data_dir_peri = './TCIA_splitted_peri10'\n",
    "test_datasets_peri = datasets.ImageFolder(os.path.join(data_dir_peri, 'test'),\n",
    "                                          test_transforms)\n",
    "testloaders_peri = torch.utils.data.DataLoader(test_datasets_peri, batch_size=4,\n",
    "                                             shuffle=False, num_workers=0)\n",
    "\n",
    "data_dir_texture = './TCIA_splitted_texture10'\n",
    "test_datasets_texture = datasets.ImageFolder(os.path.join(data_dir_texture, 'test'),\n",
    "                                          test_transforms)\n",
    "testloaders_texture = torch.utils.data.DataLoader(test_datasets_texture, batch_size=4,\n",
    "                                             shuffle=False, num_workers=0)\n"
   ]
  },
  {
   "cell_type": "code",
   "execution_count": 51,
   "metadata": {
    "scrolled": false
   },
   "outputs": [
    {
     "name": "stdout",
     "output_type": "stream",
     "text": [
      "58\n",
      "58\n",
      "58\n"
     ]
    }
   ],
   "source": [
    "print(len(test_datasets_intra))\n",
    "print(len(test_datasets_peri))\n",
    "print(len(test_datasets_texture))"
   ]
  },
  {
   "cell_type": "code",
   "execution_count": 52,
   "metadata": {
    "scrolled": true
   },
   "outputs": [
    {
     "data": {
      "text/plain": [
       "AlexNet(\n",
       "  (features): Sequential(\n",
       "    (0): Conv2d(3, 64, kernel_size=(11, 11), stride=(4, 4), padding=(2, 2))\n",
       "    (1): ReLU(inplace=True)\n",
       "    (2): MaxPool2d(kernel_size=3, stride=2, padding=0, dilation=1, ceil_mode=False)\n",
       "    (3): Conv2d(64, 192, kernel_size=(5, 5), stride=(1, 1), padding=(2, 2))\n",
       "    (4): ReLU(inplace=True)\n",
       "    (5): MaxPool2d(kernel_size=3, stride=2, padding=0, dilation=1, ceil_mode=False)\n",
       "    (6): Conv2d(192, 384, kernel_size=(3, 3), stride=(1, 1), padding=(1, 1))\n",
       "    (7): ReLU(inplace=True)\n",
       "    (8): Conv2d(384, 256, kernel_size=(3, 3), stride=(1, 1), padding=(1, 1))\n",
       "    (9): ReLU(inplace=True)\n",
       "    (10): Conv2d(256, 256, kernel_size=(3, 3), stride=(1, 1), padding=(1, 1))\n",
       "    (11): ReLU(inplace=True)\n",
       "    (12): MaxPool2d(kernel_size=3, stride=2, padding=0, dilation=1, ceil_mode=False)\n",
       "  )\n",
       "  (avgpool): AdaptiveAvgPool2d(output_size=(6, 6))\n",
       "  (classifier): Sequential(\n",
       "    (0): Dropout(p=0.5, inplace=False)\n",
       "    (1): Linear(in_features=9216, out_features=4096, bias=True)\n",
       "    (2): ReLU(inplace=True)\n",
       "    (3): Dropout(p=0.5, inplace=False)\n",
       "    (4): Linear(in_features=4096, out_features=4096, bias=True)\n",
       "    (5): ReLU(inplace=True)\n",
       "    (6): Linear(in_features=4096, out_features=2, bias=True)\n",
       "  )\n",
       ")"
      ]
     },
     "execution_count": 52,
     "metadata": {},
     "output_type": "execute_result"
    }
   ],
   "source": [
    "alexnet4_intra= torch.load('./models/alexnet_intra10.pt')\n",
    "alexnet4_intra.eval()\n",
    "alexnet4_peri= torch.load('./models/alexnet_peri10.pt')\n",
    "alexnet4_peri.eval()\n",
    "alexnet4_texture= torch.load('./models/alexnet_texture10.pt')\n",
    "alexnet4_texture.eval()"
   ]
  },
  {
   "cell_type": "code",
   "execution_count": 53,
   "metadata": {},
   "outputs": [],
   "source": [
    "for param in alexnet4_intra.parameters():\n",
    "    param.requires_grad_(False)\n",
    "for param in alexnet4_peri.parameters():\n",
    "    param.requires_grad_(False)\n",
    "for param in alexnet4_texture.parameters():\n",
    "    param.requires_grad_(False)"
   ]
  },
  {
   "cell_type": "markdown",
   "metadata": {
    "scrolled": true
   },
   "source": [
    "correct = 0\n",
    "total = 0\n",
    "\n",
    "with torch.no_grad():\n",
    "    for data in testloaders_peri:\n",
    "        img,labels=data\n",
    "        print('***********')\n",
    "        print(labels)\n",
    "        output=alexnet4_peri(img)\n",
    "        _, predicted = torch.max(output.data, 1)\n",
    "        print(predicted)\n",
    "        total += labels.size(0)\n",
    "        correct += (predicted == labels).sum().item()\n",
    "    \n",
    "    print('Testset Accuracy(mean): %f %%' % (100 * correct / total))\n"
   ]
  },
  {
   "cell_type": "code",
   "execution_count": 57,
   "metadata": {},
   "outputs": [],
   "source": [
    "ensemble=Ensemble(alexnet4_intra,alexnet4_peri,alexnet4_texture)"
   ]
  },
  {
   "cell_type": "code",
   "execution_count": 58,
   "metadata": {
    "scrolled": true
   },
   "outputs": [
    {
     "name": "stdout",
     "output_type": "stream",
     "text": [
      "***********\n",
      "Labels\n",
      "tensor([0, 0, 0, 0])\n",
      "predicted\n",
      "tensor([1, 1, 0, 1])\n",
      "***********\n",
      "Labels\n",
      "tensor([0, 0, 0, 0])\n",
      "predicted\n",
      "tensor([0, 1, 1, 1])\n",
      "***********\n",
      "Labels\n",
      "tensor([0, 0, 0, 0])\n",
      "predicted\n",
      "tensor([1, 1, 0, 0])\n",
      "***********\n",
      "Labels\n",
      "tensor([0, 0, 0, 0])\n",
      "predicted\n",
      "tensor([0, 1, 1, 1])\n",
      "***********\n",
      "Labels\n",
      "tensor([0, 0, 1, 1])\n",
      "predicted\n",
      "tensor([1, 1, 1, 1])\n",
      "***********\n",
      "Labels\n",
      "tensor([1, 1, 1, 1])\n",
      "predicted\n",
      "tensor([1, 1, 1, 1])\n",
      "***********\n",
      "Labels\n",
      "tensor([1, 1, 1, 1])\n",
      "predicted\n",
      "tensor([1, 1, 1, 1])\n",
      "***********\n",
      "Labels\n",
      "tensor([1, 1, 1, 1])\n",
      "predicted\n",
      "tensor([1, 1, 1, 1])\n",
      "***********\n",
      "Labels\n",
      "tensor([1, 1, 1, 1])\n",
      "predicted\n",
      "tensor([1, 1, 1, 1])\n",
      "***********\n",
      "Labels\n",
      "tensor([1, 1, 1, 1])\n",
      "predicted\n",
      "tensor([1, 1, 1, 1])\n",
      "***********\n",
      "Labels\n",
      "tensor([1, 1, 1, 1])\n",
      "predicted\n",
      "tensor([1, 1, 1, 1])\n",
      "***********\n",
      "Labels\n",
      "tensor([1, 1, 1, 1])\n",
      "predicted\n",
      "tensor([1, 1, 1, 1])\n",
      "***********\n",
      "Labels\n",
      "tensor([1, 1, 1, 1])\n",
      "predicted\n",
      "tensor([1, 1, 1, 1])\n",
      "***********\n",
      "Labels\n",
      "tensor([1, 1, 1, 1])\n",
      "predicted\n",
      "tensor([1, 0, 1, 1])\n",
      "***********\n",
      "Labels\n",
      "tensor([1, 1])\n",
      "predicted\n",
      "tensor([1, 1])\n",
      "Testset Accuracy(mean): 75.862069 %\n"
     ]
    }
   ],
   "source": [
    "####Accuracy####\n",
    "correct = 0\n",
    "total = 0\n",
    "\n",
    "\n",
    "for intra,peri,texture in zip(testloaders_intra,testloaders_peri,testloaders_texture):\n",
    "    img_intra,label_intra=intra\n",
    "    img_peri,label_peri=peri\n",
    "    img_texture,label_texture=texture\n",
    "\n",
    "    print('***********')\n",
    "    print('- Labels')\n",
    "    print(label_intra)\n",
    "    \n",
    "    predicted=ensemble(img_intra,img_peri,img_texture,label_texture)\n",
    "    \n",
    "    print('- Predicted')\n",
    "    print(predicted)\n",
    "    \n",
    "    total += label_intra.size(0)\n",
    "    correct += (predicted == label_intra).sum().item()\n",
    "\n",
    "print('Testset Accuracy(mean): %f %%' % (100 * correct / total))"
   ]
  },
  {
   "cell_type": "code",
   "execution_count": 59,
   "metadata": {
    "scrolled": true
   },
   "outputs": [
    {
     "name": "stdout",
     "output_type": "stream",
     "text": [
      "Confusion Matrix: \n",
      "[[39  1]\n",
      " [13  5]]\n",
      "\n",
      "Sensitivity:  97.5\n",
      "Specificity:  27.77777777777778\n",
      "PPV:  75.0\n",
      "NPV:  83.33333333333333\n"
     ]
    }
   ],
   "source": [
    "getConfusionMatrix(ensemble)"
   ]
  },
  {
   "cell_type": "code",
   "execution_count": null,
   "metadata": {},
   "outputs": [],
   "source": []
  }
 ],
 "metadata": {
  "kernelspec": {
   "display_name": "Python 3",
   "language": "python",
   "name": "python3"
  },
  "language_info": {
   "codemirror_mode": {
    "name": "ipython",
    "version": 3
   },
   "file_extension": ".py",
   "mimetype": "text/x-python",
   "name": "python",
   "nbconvert_exporter": "python",
   "pygments_lexer": "ipython3",
   "version": "3.7.3"
  }
 },
 "nbformat": 4,
 "nbformat_minor": 2
}
